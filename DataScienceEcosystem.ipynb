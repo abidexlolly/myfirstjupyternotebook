{
 "cells": [
  {
   "cell_type": "markdown",
   "id": "d25cee26-0be7-4e1d-ac3d-1a3f5daf03f7",
   "metadata": {
    "tags": []
   },
   "source": [
    "exercise 1: create a jupyter notebook with title datascienceecosystem"
   ]
  },
  {
   "cell_type": "markdown",
   "id": "a638bc68-cb0e-48e7-9042-7e0c350ece60",
   "metadata": {},
   "source": [
    "exercise 2: crteate a markdown cell with title data science tools and ecosystem using H1 style heading"
   ]
  },
  {
   "cell_type": "markdown",
   "id": "af4c650f-c5af-4331-b664-e80df423aab5",
   "metadata": {
    "tags": []
   },
   "source": [
    "# Data Science Tools and Ecosystem"
   ]
  },
  {
   "cell_type": "code",
   "execution_count": null,
   "id": "17eefa44-78f1-4900-b5df-fc60dff28f13",
   "metadata": {},
   "outputs": [],
   "source": [
    "exercise 3: create markdown cell for an introduction"
   ]
  },
  {
   "cell_type": "markdown",
   "id": "63216cae-3d45-4d91-91ae-e14ab96a2a0c",
   "metadata": {},
   "source": [
    "### in this notebook data science tools and ecosystem are summerized "
   ]
  },
  {
   "cell_type": "markdown",
   "id": "9e22532c-178b-482c-99e0-49e3e3dd12b7",
   "metadata": {},
   "source": [
    "**objectives**\n",
    "- working with files in jupyter notebook\n",
    "- getting started with github\n",
    "- uploading files to github"
   ]
  },
  {
   "cell_type": "code",
   "execution_count": null,
   "id": "003724c2-2ddc-4fa0-a7a1-962e0b7ae1dc",
   "metadata": {},
   "outputs": [],
   "source": [
    "exercise 4:create a markdown cell to list data science languages"
   ]
  },
  {
   "cell_type": "markdown",
   "id": "3b3f682b-519b-421f-bccd-fb71d3387b21",
   "metadata": {},
   "source": [
    "Some popular languages data scientist use are; python, R, scala, Java, C++, julia, SQL, \n",
    "1. python\n",
    "2. R\n",
    "3. SQL\n",
    "4. Julia\n",
    "5. Java"
   ]
  },
  {
   "cell_type": "code",
   "execution_count": null,
   "id": "c40e5938-9611-4c09-9671-9662e6f72757",
   "metadata": {},
   "outputs": [],
   "source": [
    "exercise 5: create a markdown cell to list data science libraries"
   ]
  },
  {
   "cell_type": "markdown",
   "id": "5b91e51b-ee56-401c-8e03-78ebe6c45ec6",
   "metadata": {},
   "source": [
    "some commonly used libraries used by data scientist include:\n",
    "1. Numpy\n",
    "2. pandas\n",
    "3. matplotlib\n"
   ]
  },
  {
   "cell_type": "code",
   "execution_count": null,
   "id": "fa246d7a-fd13-4aaf-be65-edd845f20f31",
   "metadata": {},
   "outputs": [],
   "source": [
    "exercise 6: create a markdown cell with a table of data science tools"
   ]
  },
  {
   "cell_type": "markdown",
   "id": "15b8ef4e-359e-4e80-9c43-1f06e12e74a6",
   "metadata": {},
   "source": [
    "|Data Science Tools|\n",
    "|------------------|\n",
    "|Jupyter notebook|\n",
    "|Github|\n",
    "|virtual studio code|"
   ]
  },
  {
   "cell_type": "code",
   "execution_count": null,
   "id": "278ce492-1022-4c49-9735-5bbfc9779eb2",
   "metadata": {},
   "outputs": [],
   "source": [
    "exercise 7:create a markdown cell introducing arithmetic expression examples"
   ]
  },
  {
   "cell_type": "markdown",
   "id": "7734bcb9-70b2-4bf8-8d01-d5711fa9947a",
   "metadata": {},
   "source": [
    "### below are a few examples of evaluating arithmetic expressions in python"
   ]
  },
  {
   "cell_type": "code",
   "execution_count": null,
   "id": "63043b61-184d-4aa8-bca9-a12035730705",
   "metadata": {},
   "outputs": [],
   "source": [
    "exercise 8: create a code cell to multiply and add numbers"
   ]
  },
  {
   "cell_type": "code",
   "execution_count": 2,
   "id": "b0d4396b-fdc7-4a01-9a5c-dfe38cee587d",
   "metadata": {
    "tags": []
   },
   "outputs": [
    {
     "data": {
      "text/plain": [
       "17"
      ]
     },
     "execution_count": 2,
     "metadata": {},
     "output_type": "execute_result"
    }
   ],
   "source": [
    "(3*4)+5\n",
    "# this is an arithmetic expression to multiply and add intergers"
   ]
  },
  {
   "cell_type": "code",
   "execution_count": null,
   "id": "12fbb72f-805b-4fa1-8d5e-1a1c989e93b0",
   "metadata": {},
   "outputs": [],
   "source": [
    "exercise 9: create a code cell to convert minutes to hours"
   ]
  },
  {
   "cell_type": "code",
   "execution_count": 2,
   "id": "83dad3bd-ff57-419a-a976-18032b3a490f",
   "metadata": {
    "tags": []
   },
   "outputs": [
    {
     "name": "stdin",
     "output_type": "stream",
     "text": [
      "time in minutes 200\n"
     ]
    },
    {
     "name": "stdout",
     "output_type": "stream",
     "text": [
      "3.3333333333333335\n"
     ]
    }
   ],
   "source": [
    "time_in_minutes=int(input(\"time in minutes\"))\n",
    "time_in_hours=time_in_minutes/60\n",
    "print(time_in_hours)\n",
    "#this is a code to convert min to hours by dividing input by 60"
   ]
  },
  {
   "cell_type": "code",
   "execution_count": null,
   "id": "abe1c027-dfc4-4118-8ec9-f662f86b1450",
   "metadata": {},
   "outputs": [],
   "source": [
    "exercise 10: insert a markdown cell to list objectives\n",
    "#check the cell below exercise 3"
   ]
  },
  {
   "cell_type": "code",
   "execution_count": null,
   "id": "bfa714db-acf2-446c-ad49-d36e18d142ee",
   "metadata": {},
   "outputs": [],
   "source": [
    "exercise 11:create a markdown cell to indicate the author's name"
   ]
  },
  {
   "cell_type": "markdown",
   "id": "ed2030be-d416-4741-96fe-237c061534e5",
   "metadata": {},
   "source": [
    "## Author\n",
    "Olamide Awopegba"
   ]
  }
 ],
 "metadata": {
  "kernelspec": {
   "display_name": "Python",
   "language": "python",
   "name": "conda-env-python-py"
  },
  "language_info": {
   "codemirror_mode": {
    "name": "ipython",
    "version": 3
   },
   "file_extension": ".py",
   "mimetype": "text/x-python",
   "name": "python",
   "nbconvert_exporter": "python",
   "pygments_lexer": "ipython3",
   "version": "3.7.12"
  }
 },
 "nbformat": 4,
 "nbformat_minor": 5
}
